{
 "cells": [
  {
   "cell_type": "markdown",
   "metadata": {},
   "source": [
    "# Stock Market Price Predction Using Stacked LSTM"
   ]
  },
  {
   "cell_type": "markdown",
   "metadata": {},
   "source": [
    "## Collecting Stock Data from AAPL"
   ]
  },
  {
   "cell_type": "code",
   "execution_count": 1,
   "metadata": {},
   "outputs": [],
   "source": [
    "import pandas_datareader as pdr #for using the tiingo api\n",
    "from dotenv import load_dotenv\n",
    "import os"
   ]
  },
  {
   "cell_type": "code",
   "execution_count": 2,
   "metadata": {},
   "outputs": [
    {
     "data": {
      "text/plain": [
       "True"
      ]
     },
     "execution_count": 2,
     "metadata": {},
     "output_type": "execute_result"
    }
   ],
   "source": [
    "load_dotenv()"
   ]
  },
  {
   "cell_type": "code",
   "execution_count": 3,
   "metadata": {},
   "outputs": [],
   "source": [
    "key = os.environ.get('API_KEY')"
   ]
  },
  {
   "cell_type": "code",
   "execution_count": 4,
   "metadata": {},
   "outputs": [],
   "source": [
    "dataset = pdr.get_data_tiingo('AAPL',api_key=key)"
   ]
  },
  {
   "cell_type": "code",
   "execution_count": 5,
   "metadata": {},
   "outputs": [],
   "source": [
    "dataset.to_csv('AAPL.csv')"
   ]
  },
  {
   "cell_type": "code",
   "execution_count": 56,
   "metadata": {},
   "outputs": [],
   "source": [
    "import pandas as pd"
   ]
  },
  {
   "cell_type": "code",
   "execution_count": 57,
   "metadata": {},
   "outputs": [],
   "source": [
    "dataset = pd.read_csv('AAPL.csv')"
   ]
  },
  {
   "cell_type": "code",
   "execution_count": 58,
   "metadata": {},
   "outputs": [
    {
     "data": {
      "text/html": [
       "<div>\n",
       "<style scoped>\n",
       "    .dataframe tbody tr th:only-of-type {\n",
       "        vertical-align: middle;\n",
       "    }\n",
       "\n",
       "    .dataframe tbody tr th {\n",
       "        vertical-align: top;\n",
       "    }\n",
       "\n",
       "    .dataframe thead th {\n",
       "        text-align: right;\n",
       "    }\n",
       "</style>\n",
       "<table border=\"1\" class=\"dataframe\">\n",
       "  <thead>\n",
       "    <tr style=\"text-align: right;\">\n",
       "      <th></th>\n",
       "      <th>symbol</th>\n",
       "      <th>date</th>\n",
       "      <th>close</th>\n",
       "      <th>high</th>\n",
       "      <th>low</th>\n",
       "      <th>open</th>\n",
       "      <th>volume</th>\n",
       "      <th>adjClose</th>\n",
       "      <th>adjHigh</th>\n",
       "      <th>adjLow</th>\n",
       "      <th>adjOpen</th>\n",
       "      <th>adjVolume</th>\n",
       "      <th>divCash</th>\n",
       "      <th>splitFactor</th>\n",
       "    </tr>\n",
       "  </thead>\n",
       "  <tbody>\n",
       "    <tr>\n",
       "      <th>0</th>\n",
       "      <td>AAPL</td>\n",
       "      <td>2019-01-22 00:00:00+00:00</td>\n",
       "      <td>153.30</td>\n",
       "      <td>156.73</td>\n",
       "      <td>152.62</td>\n",
       "      <td>156.41</td>\n",
       "      <td>30393970</td>\n",
       "      <td>36.783597</td>\n",
       "      <td>37.606609</td>\n",
       "      <td>36.620434</td>\n",
       "      <td>37.529826</td>\n",
       "      <td>121575880</td>\n",
       "      <td>0.0</td>\n",
       "      <td>1.0</td>\n",
       "    </tr>\n",
       "    <tr>\n",
       "      <th>1</th>\n",
       "      <td>AAPL</td>\n",
       "      <td>2019-01-23 00:00:00+00:00</td>\n",
       "      <td>153.92</td>\n",
       "      <td>155.14</td>\n",
       "      <td>151.70</td>\n",
       "      <td>154.15</td>\n",
       "      <td>23130570</td>\n",
       "      <td>36.932363</td>\n",
       "      <td>37.225096</td>\n",
       "      <td>36.399685</td>\n",
       "      <td>36.987550</td>\n",
       "      <td>92522280</td>\n",
       "      <td>0.0</td>\n",
       "      <td>1.0</td>\n",
       "    </tr>\n",
       "    <tr>\n",
       "      <th>2</th>\n",
       "      <td>AAPL</td>\n",
       "      <td>2019-01-24 00:00:00+00:00</td>\n",
       "      <td>152.70</td>\n",
       "      <td>154.48</td>\n",
       "      <td>151.74</td>\n",
       "      <td>154.11</td>\n",
       "      <td>25441549</td>\n",
       "      <td>36.639630</td>\n",
       "      <td>37.066732</td>\n",
       "      <td>36.409282</td>\n",
       "      <td>36.977952</td>\n",
       "      <td>101766196</td>\n",
       "      <td>0.0</td>\n",
       "      <td>1.0</td>\n",
       "    </tr>\n",
       "    <tr>\n",
       "      <th>3</th>\n",
       "      <td>AAPL</td>\n",
       "      <td>2019-01-25 00:00:00+00:00</td>\n",
       "      <td>157.76</td>\n",
       "      <td>158.13</td>\n",
       "      <td>154.32</td>\n",
       "      <td>155.48</td>\n",
       "      <td>33547893</td>\n",
       "      <td>37.853752</td>\n",
       "      <td>37.942532</td>\n",
       "      <td>37.028341</td>\n",
       "      <td>37.306677</td>\n",
       "      <td>134191572</td>\n",
       "      <td>0.0</td>\n",
       "      <td>1.0</td>\n",
       "    </tr>\n",
       "    <tr>\n",
       "      <th>4</th>\n",
       "      <td>AAPL</td>\n",
       "      <td>2019-01-28 00:00:00+00:00</td>\n",
       "      <td>156.30</td>\n",
       "      <td>156.33</td>\n",
       "      <td>153.66</td>\n",
       "      <td>155.79</td>\n",
       "      <td>26192058</td>\n",
       "      <td>37.503432</td>\n",
       "      <td>37.510631</td>\n",
       "      <td>36.869977</td>\n",
       "      <td>37.381060</td>\n",
       "      <td>104768232</td>\n",
       "      <td>0.0</td>\n",
       "      <td>1.0</td>\n",
       "    </tr>\n",
       "  </tbody>\n",
       "</table>\n",
       "</div>"
      ],
      "text/plain": [
       "  symbol                       date   close    high     low    open    volume  \\\n",
       "0   AAPL  2019-01-22 00:00:00+00:00  153.30  156.73  152.62  156.41  30393970   \n",
       "1   AAPL  2019-01-23 00:00:00+00:00  153.92  155.14  151.70  154.15  23130570   \n",
       "2   AAPL  2019-01-24 00:00:00+00:00  152.70  154.48  151.74  154.11  25441549   \n",
       "3   AAPL  2019-01-25 00:00:00+00:00  157.76  158.13  154.32  155.48  33547893   \n",
       "4   AAPL  2019-01-28 00:00:00+00:00  156.30  156.33  153.66  155.79  26192058   \n",
       "\n",
       "    adjClose    adjHigh     adjLow    adjOpen  adjVolume  divCash  splitFactor  \n",
       "0  36.783597  37.606609  36.620434  37.529826  121575880      0.0          1.0  \n",
       "1  36.932363  37.225096  36.399685  36.987550   92522280      0.0          1.0  \n",
       "2  36.639630  37.066732  36.409282  36.977952  101766196      0.0          1.0  \n",
       "3  37.853752  37.942532  37.028341  37.306677  134191572      0.0          1.0  \n",
       "4  37.503432  37.510631  36.869977  37.381060  104768232      0.0          1.0  "
      ]
     },
     "execution_count": 58,
     "metadata": {},
     "output_type": "execute_result"
    }
   ],
   "source": [
    "dataset.head()"
   ]
  },
  {
   "cell_type": "code",
   "execution_count": 59,
   "metadata": {},
   "outputs": [],
   "source": [
    "# taking only the close column for prediction\n",
    "dataset=dataset.reset_index()['close']"
   ]
  },
  {
   "cell_type": "code",
   "execution_count": 60,
   "metadata": {},
   "outputs": [
    {
     "data": {
      "text/plain": [
       "[<matplotlib.lines.Line2D at 0x27a47497b80>]"
      ]
     },
     "execution_count": 60,
     "metadata": {},
     "output_type": "execute_result"
    },
    {
     "data": {
      "image/png": "[encoded data removed]",
      "text/plain": [
       "<Figure size 640x480 with 1 Axes>"
      ]
     },
     "metadata": {},
     "output_type": "display_data"
    }
   ],
   "source": [
    "import matplotlib.pyplot as plt\n",
    "plt.plot(dataset)"
   ]
  },
  {
   "cell_type": "markdown",
   "metadata": {},
   "source": [
    "## Preprocessing the Dataset"
   ]
  },
  {
   "cell_type": "code",
   "execution_count": 61,
   "metadata": {},
   "outputs": [],
   "source": [
    "import numpy as np\n",
    "from sklearn.preprocessing import MinMaxScaler"
   ]
  },
  {
   "cell_type": "code",
   "execution_count": 62,
   "metadata": {},
   "outputs": [],
   "source": [
    "scaler=MinMaxScaler(feature_range=(0,1))\n",
    "dataset=scaler.fit_transform(np.array(dataset).reshape(-1,1))"
   ]
  },
  {
   "cell_type": "markdown",
   "metadata": {},
   "source": [
    "## Splitting the Datatset"
   ]
  },
  {
   "cell_type": "code",
   "execution_count": 63,
   "metadata": {},
   "outputs": [],
   "source": [
    "from sklearn.model_selection import train_test_split"
   ]
  },
  {
   "cell_type": "code",
   "execution_count": 64,
   "metadata": {},
   "outputs": [],
   "source": [
    "# note that here in time series data the split is not a \n",
    "# random split as the vales depends on the previous days as well\n",
    "# so we should divide on the basis of dates\n",
    "# dataset_train, dataset_test = train_test_split(dataset, test_size=0.35, random_state=42)\n",
    "\n",
    "training_size=int(len(dataset)*0.65)\n",
    "test_size=len(dataset)-training_size\n",
    "train_data,test_data=dataset[0:training_size,:],dataset[training_size:len(dataset),:]"
   ]
  },
  {
   "cell_type": "code",
   "execution_count": 65,
   "metadata": {},
   "outputs": [],
   "source": [
    "# converting an array of values into dataset matrix\n",
    "# here timestep indicates that to calculate the current day we need to consider \n",
    "# previous timestep days, now let say its value is 3\n",
    "# so every entry now has 3 days before as independant and one dependant current day\n",
    "\n",
    "def create_dataset(dataset, time_step=1):\n",
    "\tdataX, dataY = [], []\n",
    "\tfor i in range(len(dataset)-time_step-1):\n",
    "\t\ta = dataset[i:(i+time_step), 0]\n",
    "\t\tdataX.append(a)\n",
    "\t\tdataY.append(dataset[i + time_step, 0])\n",
    "\treturn np.array(dataX), np.array(dataY)"
   ]
  },
  {
   "cell_type": "code",
   "execution_count": 66,
   "metadata": {},
   "outputs": [],
   "source": [
    "time_step = 100\n",
    "X_train, y_train = create_dataset(train_data, time_step)\n",
    "X_test, y_test = create_dataset(test_data, time_step)"
   ]
  },
  {
   "cell_type": "code",
   "execution_count": 67,
   "metadata": {},
   "outputs": [],
   "source": [
    "# reshaping input to be [samples, time steps, features] for fulfit LSTM input requirements\n",
    "X_train =X_train.reshape(X_train.shape[0],X_train.shape[1] , 1)\n",
    "X_test = X_test.reshape(X_test.shape[0],X_test.shape[1] , 1)"
   ]
  },
  {
   "cell_type": "markdown",
   "metadata": {},
   "source": [
    "## Training Stacked LSTM model"
   ]
  },
  {
   "cell_type": "code",
   "execution_count": 68,
   "metadata": {},
   "outputs": [],
   "source": [
    "import tensorflow as tf"
   ]
  },
  {
   "cell_type": "code",
   "execution_count": 69,
   "metadata": {},
   "outputs": [
    {
     "data": {
      "text/plain": [
       "True"
      ]
     },
     "execution_count": 69,
     "metadata": {},
     "output_type": "execute_result"
    }
   ],
   "source": [
    "tf.test.is_built_with_cuda() # checking for GPU"
   ]
  },
  {
   "cell_type": "code",
   "execution_count": 70,
   "metadata": {},
   "outputs": [],
   "source": [
    "from tensorflow.keras.models import Sequential\n",
    "from tensorflow.keras.layers import Dense\n",
    "from tensorflow.keras.layers import LSTM"
   ]
  },
  {
   "cell_type": "code",
   "execution_count": 19,
   "metadata": {},
   "outputs": [],
   "source": [
    "# first input shape is 2nd and the 3rd dimention i.e (100,1) -> dimentions of each element \n",
    "model=Sequential()\n",
    "model.add(LSTM(50,return_sequences=True,input_shape=(100,1)))\n",
    "model.add(LSTM(50,return_sequences=True))\n",
    "model.add(LSTM(50))\n",
    "model.add(Dense(1))"
   ]
  },
  {
   "cell_type": "code",
   "execution_count": 20,
   "metadata": {},
   "outputs": [],
   "source": [
    "model.compile(loss='mean_squared_error',optimizer='adam')\n"
   ]
  },
  {
   "cell_type": "code",
   "execution_count": 21,
   "metadata": {},
   "outputs": [
    {
     "name": "stdout",
     "output_type": "stream",
     "text": [
      "Model: \"sequential\"\n",
      "_________________________________________________________________\n",
      " Layer (type)                Output Shape              Param #   \n",
      "=================================================================\n",
      " lstm (LSTM)                 (None, 100, 50)           10400     \n",
      "                                                                 \n",
      " lstm_1 (LSTM)               (None, 100, 50)           20200     \n",
      "                                                                 \n",
      " lstm_2 (LSTM)               (None, 50)                20200     \n",
      "                                                                 \n",
      " dense (Dense)               (None, 1)                 51        \n",
      "                                                                 \n",
      "=================================================================\n",
      "Total params: 50,851\n",
      "Trainable params: 50,851\n",
      "Non-trainable params: 0\n",
      "_________________________________________________________________\n"
     ]
    }
   ],
   "source": [
    "model.summary()"
   ]
  },
  {
   "cell_type": "code",
   "execution_count": 22,
   "metadata": {},
   "outputs": [
    {
     "name": "stdout",
     "output_type": "stream",
     "text": [
      "Epoch 1/100\n",
      "12/12 [==============================] - 18s 229ms/step - loss: 0.0334 - val_loss: 8.0125e-04\n",
      "Epoch 2/100\n",
      "12/12 [==============================] - 1s 75ms/step - loss: 0.0151 - val_loss: 0.0039\n",
      "Epoch 3/100\n",
      "12/12 [==============================] - 1s 68ms/step - loss: 0.0114 - val_loss: 3.6296e-04\n",
      "Epoch 4/100\n",
      "12/12 [==============================] - 1s 67ms/step - loss: 0.0088 - val_loss: 4.5979e-04\n",
      "Epoch 5/100\n",
      "12/12 [==============================] - 1s 73ms/step - loss: 0.0087 - val_loss: 4.7805e-04\n",
      "Epoch 6/100\n",
      "12/12 [==============================] - 1s 71ms/step - loss: 0.0075 - val_loss: 2.8005e-04\n",
      "Epoch 7/100\n",
      "12/12 [==============================] - 1s 71ms/step - loss: 0.0063 - val_loss: 6.3697e-04\n",
      "Epoch 8/100\n",
      "12/12 [==============================] - 1s 73ms/step - loss: 0.0055 - val_loss: 2.5751e-04\n",
      "Epoch 9/100\n",
      "12/12 [==============================] - 1s 70ms/step - loss: 0.0054 - val_loss: 6.2242e-04\n",
      "Epoch 10/100\n",
      "12/12 [==============================] - 1s 70ms/step - loss: 0.0085 - val_loss: 4.2653e-04\n",
      "Epoch 11/100\n",
      "12/12 [==============================] - 1s 72ms/step - loss: 0.0066 - val_loss: 9.4985e-04\n",
      "Epoch 12/100\n",
      "12/12 [==============================] - 1s 70ms/step - loss: 0.0046 - val_loss: 0.0011\n",
      "Epoch 13/100\n",
      "12/12 [==============================] - 1s 68ms/step - loss: 0.0050 - val_loss: 5.3975e-04\n",
      "Epoch 14/100\n",
      "12/12 [==============================] - 1s 73ms/step - loss: 0.0041 - val_loss: 2.1753e-04\n",
      "Epoch 15/100\n",
      "12/12 [==============================] - 1s 71ms/step - loss: 0.0043 - val_loss: 2.8246e-04\n",
      "Epoch 16/100\n",
      "12/12 [==============================] - 1s 73ms/step - loss: 0.0033 - val_loss: 2.7003e-04\n",
      "Epoch 17/100\n",
      "12/12 [==============================] - 1s 71ms/step - loss: 0.0037 - val_loss: 3.5752e-04\n",
      "Epoch 18/100\n",
      "12/12 [==============================] - 1s 70ms/step - loss: 0.0031 - val_loss: 2.1298e-04\n",
      "Epoch 19/100\n",
      "12/12 [==============================] - 1s 69ms/step - loss: 0.0029 - val_loss: 3.2496e-04\n",
      "Epoch 20/100\n",
      "12/12 [==============================] - 1s 74ms/step - loss: 0.0027 - val_loss: 2.0009e-04\n",
      "Epoch 21/100\n",
      "12/12 [==============================] - 1s 71ms/step - loss: 0.0024 - val_loss: 2.0634e-04\n",
      "Epoch 22/100\n",
      "12/12 [==============================] - 1s 69ms/step - loss: 0.0039 - val_loss: 5.5097e-04\n",
      "Epoch 23/100\n",
      "12/12 [==============================] - 1s 73ms/step - loss: 0.0032 - val_loss: 2.2139e-04\n",
      "Epoch 24/100\n",
      "12/12 [==============================] - 1s 69ms/step - loss: 0.0037 - val_loss: 2.4735e-04\n",
      "Epoch 25/100\n",
      "12/12 [==============================] - 1s 69ms/step - loss: 0.0031 - val_loss: 3.8175e-04\n",
      "Epoch 26/100\n",
      "12/12 [==============================] - 1s 68ms/step - loss: 0.0028 - val_loss: 3.5964e-04\n",
      "Epoch 27/100\n",
      "12/12 [==============================] - 1s 68ms/step - loss: 0.0025 - val_loss: 2.2928e-04\n",
      "Epoch 28/100\n",
      "12/12 [==============================] - 1s 67ms/step - loss: 0.0020 - val_loss: 2.3408e-04\n",
      "Epoch 29/100\n",
      "12/12 [==============================] - 1s 70ms/step - loss: 0.0021 - val_loss: 1.9974e-04\n",
      "Epoch 30/100\n",
      "12/12 [==============================] - 1s 66ms/step - loss: 0.0023 - val_loss: 2.3566e-04\n",
      "Epoch 31/100\n",
      "12/12 [==============================] - 1s 69ms/step - loss: 0.0020 - val_loss: 2.0340e-04\n",
      "Epoch 32/100\n",
      "12/12 [==============================] - 1s 69ms/step - loss: 0.0019 - val_loss: 1.9962e-04\n",
      "Epoch 33/100\n",
      "12/12 [==============================] - 1s 70ms/step - loss: 0.0024 - val_loss: 3.0663e-04\n",
      "Epoch 34/100\n",
      "12/12 [==============================] - 1s 69ms/step - loss: 0.0052 - val_loss: 5.0661e-04\n",
      "Epoch 35/100\n",
      "12/12 [==============================] - 1s 68ms/step - loss: 0.0028 - val_loss: 2.8507e-04\n",
      "Epoch 36/100\n",
      "12/12 [==============================] - 1s 67ms/step - loss: 0.0022 - val_loss: 3.1106e-04\n",
      "Epoch 37/100\n",
      "12/12 [==============================] - 1s 70ms/step - loss: 0.0019 - val_loss: 2.1003e-04\n",
      "Epoch 38/100\n",
      "12/12 [==============================] - 1s 71ms/step - loss: 0.0019 - val_loss: 2.6584e-04\n",
      "Epoch 39/100\n",
      "12/12 [==============================] - 1s 73ms/step - loss: 0.0016 - val_loss: 2.1962e-04\n",
      "Epoch 40/100\n",
      "12/12 [==============================] - 1s 70ms/step - loss: 0.0023 - val_loss: 1.9759e-04\n",
      "Epoch 41/100\n",
      "12/12 [==============================] - 1s 70ms/step - loss: 0.0016 - val_loss: 2.0925e-04\n",
      "Epoch 42/100\n",
      "12/12 [==============================] - 1s 71ms/step - loss: 0.0020 - val_loss: 2.1632e-04\n",
      "Epoch 43/100\n",
      "12/12 [==============================] - 1s 69ms/step - loss: 0.0026 - val_loss: 3.9620e-04\n",
      "Epoch 44/100\n",
      "12/12 [==============================] - 1s 66ms/step - loss: 0.0015 - val_loss: 2.3775e-04\n",
      "Epoch 45/100\n",
      "12/12 [==============================] - 1s 72ms/step - loss: 0.0017 - val_loss: 2.0103e-04\n",
      "Epoch 46/100\n",
      "12/12 [==============================] - 1s 67ms/step - loss: 0.0016 - val_loss: 2.1230e-04\n",
      "Epoch 47/100\n",
      "12/12 [==============================] - 1s 70ms/step - loss: 0.0015 - val_loss: 2.0155e-04\n",
      "Epoch 48/100\n",
      "12/12 [==============================] - 1s 71ms/step - loss: 0.0014 - val_loss: 2.4139e-04\n",
      "Epoch 49/100\n",
      "12/12 [==============================] - 1s 111ms/step - loss: 0.0018 - val_loss: 2.9504e-04\n",
      "Epoch 50/100\n",
      "12/12 [==============================] - 1s 79ms/step - loss: 0.0024 - val_loss: 2.7949e-04\n",
      "Epoch 51/100\n",
      "12/12 [==============================] - 1s 93ms/step - loss: 0.0017 - val_loss: 2.2038e-04\n",
      "Epoch 52/100\n",
      "12/12 [==============================] - 1s 77ms/step - loss: 0.0016 - val_loss: 2.2349e-04\n",
      "Epoch 53/100\n",
      "12/12 [==============================] - 1s 72ms/step - loss: 0.0014 - val_loss: 2.0072e-04\n",
      "Epoch 54/100\n",
      "12/12 [==============================] - 1s 73ms/step - loss: 0.0012 - val_loss: 2.1132e-04\n",
      "Epoch 55/100\n",
      "12/12 [==============================] - 1s 73ms/step - loss: 0.0020 - val_loss: 2.1020e-04\n",
      "Epoch 56/100\n",
      "12/12 [==============================] - 1s 70ms/step - loss: 0.0036 - val_loss: 4.3572e-04\n",
      "Epoch 57/100\n",
      "12/12 [==============================] - 1s 79ms/step - loss: 0.0043 - val_loss: 6.1763e-04\n",
      "Epoch 58/100\n",
      "12/12 [==============================] - 1s 68ms/step - loss: 0.0037 - val_loss: 3.3480e-04\n",
      "Epoch 59/100\n",
      "12/12 [==============================] - 1s 69ms/step - loss: 0.0032 - val_loss: 2.5459e-04\n",
      "Epoch 60/100\n",
      "12/12 [==============================] - 1s 72ms/step - loss: 0.0023 - val_loss: 2.1089e-04\n",
      "Epoch 61/100\n",
      "12/12 [==============================] - 1s 72ms/step - loss: 0.0055 - val_loss: 2.7884e-04\n",
      "Epoch 62/100\n",
      "12/12 [==============================] - 1s 71ms/step - loss: 0.0029 - val_loss: 1.9932e-04\n",
      "Epoch 63/100\n",
      "12/12 [==============================] - 1s 71ms/step - loss: 0.0025 - val_loss: 3.1745e-04\n",
      "Epoch 64/100\n",
      "12/12 [==============================] - 1s 69ms/step - loss: 0.0022 - val_loss: 2.0320e-04\n",
      "Epoch 65/100\n",
      "12/12 [==============================] - 1s 70ms/step - loss: 0.0020 - val_loss: 2.6217e-04\n",
      "Epoch 66/100\n",
      "12/12 [==============================] - 1s 69ms/step - loss: 0.0015 - val_loss: 1.9207e-04\n",
      "Epoch 67/100\n",
      "12/12 [==============================] - 1s 70ms/step - loss: 0.0017 - val_loss: 1.9847e-04\n",
      "Epoch 68/100\n",
      "12/12 [==============================] - 1s 67ms/step - loss: 0.0016 - val_loss: 3.2445e-04\n",
      "Epoch 69/100\n",
      "12/12 [==============================] - 1s 64ms/step - loss: 0.0014 - val_loss: 2.0454e-04\n",
      "Epoch 70/100\n",
      "12/12 [==============================] - 1s 72ms/step - loss: 0.0015 - val_loss: 2.1237e-04\n",
      "Epoch 71/100\n",
      "12/12 [==============================] - 1s 70ms/step - loss: 0.0016 - val_loss: 2.1596e-04\n",
      "Epoch 72/100\n",
      "12/12 [==============================] - 1s 70ms/step - loss: 0.0012 - val_loss: 2.0209e-04\n",
      "Epoch 73/100\n",
      "12/12 [==============================] - 1s 72ms/step - loss: 0.0012 - val_loss: 1.9527e-04\n",
      "Epoch 74/100\n",
      "12/12 [==============================] - 1s 69ms/step - loss: 0.0014 - val_loss: 2.0199e-04\n",
      "Epoch 75/100\n",
      "12/12 [==============================] - 1s 68ms/step - loss: 0.0015 - val_loss: 2.9362e-04\n",
      "Epoch 76/100\n",
      "12/12 [==============================] - 1s 70ms/step - loss: 0.0021 - val_loss: 2.0876e-04\n",
      "Epoch 77/100\n",
      "12/12 [==============================] - 1s 72ms/step - loss: 0.0033 - val_loss: 7.1832e-04\n",
      "Epoch 78/100\n",
      "12/12 [==============================] - 1s 71ms/step - loss: 0.0020 - val_loss: 2.4167e-04\n",
      "Epoch 79/100\n",
      "12/12 [==============================] - 1s 72ms/step - loss: 0.0023 - val_loss: 2.6547e-04\n",
      "Epoch 80/100\n",
      "12/12 [==============================] - 1s 69ms/step - loss: 0.0019 - val_loss: 2.0027e-04\n",
      "Epoch 81/100\n",
      "12/12 [==============================] - 1s 72ms/step - loss: 0.0013 - val_loss: 2.1554e-04\n",
      "Epoch 82/100\n",
      "12/12 [==============================] - 1s 72ms/step - loss: 0.0011 - val_loss: 1.9282e-04\n",
      "Epoch 83/100\n",
      "12/12 [==============================] - 1s 66ms/step - loss: 0.0014 - val_loss: 2.3962e-04\n",
      "Epoch 84/100\n",
      "12/12 [==============================] - 1s 70ms/step - loss: 0.0014 - val_loss: 2.6696e-04\n",
      "Epoch 85/100\n",
      "12/12 [==============================] - 1s 70ms/step - loss: 0.0019 - val_loss: 3.3772e-04\n",
      "Epoch 86/100\n",
      "12/12 [==============================] - 1s 71ms/step - loss: 0.0015 - val_loss: 3.9221e-04\n",
      "Epoch 87/100\n",
      "12/12 [==============================] - 1s 71ms/step - loss: 0.0013 - val_loss: 2.1447e-04\n",
      "Epoch 88/100\n",
      "12/12 [==============================] - 1s 69ms/step - loss: 0.0011 - val_loss: 2.1749e-04\n",
      "Epoch 89/100\n",
      "12/12 [==============================] - 1s 72ms/step - loss: 0.0014 - val_loss: 3.0498e-04\n",
      "Epoch 90/100\n",
      "12/12 [==============================] - 1s 71ms/step - loss: 9.0435e-04 - val_loss: 2.1113e-04\n",
      "Epoch 91/100\n",
      "12/12 [==============================] - 1s 69ms/step - loss: 0.0013 - val_loss: 1.8720e-04\n",
      "Epoch 92/100\n",
      "12/12 [==============================] - 1s 72ms/step - loss: 9.9105e-04 - val_loss: 2.4708e-04\n",
      "Epoch 93/100\n",
      "12/12 [==============================] - 1s 68ms/step - loss: 0.0017 - val_loss: 1.8362e-04\n",
      "Epoch 94/100\n",
      "12/12 [==============================] - 1s 70ms/step - loss: 0.0017 - val_loss: 2.2343e-04\n",
      "Epoch 95/100\n",
      "12/12 [==============================] - 1s 71ms/step - loss: 0.0012 - val_loss: 1.8764e-04\n",
      "Epoch 96/100\n",
      "12/12 [==============================] - 1s 65ms/step - loss: 0.0011 - val_loss: 2.2067e-04\n",
      "Epoch 97/100\n",
      "12/12 [==============================] - 1s 68ms/step - loss: 0.0067 - val_loss: 1.7200e-04\n",
      "Epoch 98/100\n",
      "12/12 [==============================] - 1s 67ms/step - loss: 0.0065 - val_loss: 2.6989e-04\n",
      "Epoch 99/100\n",
      "12/12 [==============================] - 1s 68ms/step - loss: 0.0029 - val_loss: 4.5672e-04\n",
      "Epoch 100/100\n",
      "12/12 [==============================] - 1s 69ms/step - loss: 0.0030 - val_loss: 1.6292e-04\n"
     ]
    },
    {
     "data": {
      "text/plain": [
       "<keras.callbacks.History at 0x279049f4fa0>"
      ]
     },
     "execution_count": 22,
     "metadata": {},
     "output_type": "execute_result"
    }
   ],
   "source": [
    "model.fit(X_train,y_train,validation_data=(X_test,y_test),epochs=100,batch_size=64,verbose=1)"
   ]
  },
  {
   "cell_type": "code",
   "execution_count": 23,
   "metadata": {},
   "outputs": [],
   "source": [
    "model.save(\"prediction_model.h5\")"
   ]
  },
  {
   "cell_type": "markdown",
   "metadata": {},
   "source": [
    "## Predicting test data"
   ]
  },
  {
   "cell_type": "code",
   "execution_count": 32,
   "metadata": {},
   "outputs": [],
   "source": [
    "from keras.models import load_model\n",
    "model = load_model(\"prediction_model.h5\")"
   ]
  },
  {
   "cell_type": "code",
   "execution_count": 33,
   "metadata": {},
   "outputs": [
    {
     "name": "stdout",
     "output_type": "stream",
     "text": [
      "23/23 [==============================] - 1s 13ms/step\n",
      "11/11 [==============================] - 0s 12ms/step\n"
     ]
    }
   ],
   "source": [
    "train_predict=model.predict(X_train)\n",
    "test_predict=model.predict(X_test)"
   ]
  },
  {
   "cell_type": "code",
   "execution_count": 34,
   "metadata": {},
   "outputs": [],
   "source": [
    "#Transformback to original form\n",
    "train_predict=scaler.inverse_transform(train_predict)\n",
    "test_predict=scaler.inverse_transform(test_predict)"
   ]
  },
  {
   "cell_type": "code",
   "execution_count": 35,
   "metadata": {},
   "outputs": [],
   "source": [
    "import math\n",
    "from sklearn.metrics import mean_squared_error"
   ]
  },
  {
   "cell_type": "code",
   "execution_count": 36,
   "metadata": {},
   "outputs": [
    {
     "data": {
      "text/plain": [
       "219.1467870802802"
      ]
     },
     "execution_count": 36,
     "metadata": {},
     "output_type": "execute_result"
    }
   ],
   "source": [
    "# Calculate RMSE performance metrics for training\n",
    "math.sqrt(mean_squared_error(y_train,train_predict))"
   ]
  },
  {
   "cell_type": "code",
   "execution_count": 37,
   "metadata": {},
   "outputs": [
    {
     "data": {
      "text/plain": [
       "167.75576757354054"
      ]
     },
     "execution_count": 37,
     "metadata": {},
     "output_type": "execute_result"
    }
   ],
   "source": [
    "# Calculate RMSE performance metrics for test\n",
    "math.sqrt(mean_squared_error(y_test,test_predict))"
   ]
  },
  {
   "cell_type": "markdown",
   "metadata": {},
   "source": [
    "## Plotting Output"
   ]
  },
  {
   "cell_type": "code",
   "execution_count": 44,
   "metadata": {},
   "outputs": [
    {
     "data": {
      "image/png": "[encoded data removed]",
      "text/plain": [
       "<Figure size 640x480 with 1 Axes>"
      ]
     },
     "metadata": {},
     "output_type": "display_data"
    }
   ],
   "source": [
    "# shift train predictions for plotting\n",
    "look_back=100\n",
    "trainPredictPlot = np.empty_like(dataset)\n",
    "trainPredictPlot[:, :] = np.nan\n",
    "trainPredictPlot[look_back:len(train_predict)+look_back, :] = train_predict\n",
    "# shift test predictions for plotting\n",
    "testPredictPlot = np.empty_like(dataset)\n",
    "testPredictPlot[:, :] = np.nan\n",
    "testPredictPlot[len(train_predict)+(look_back*2)+1:len(dataset)-1, :] = test_predict\n",
    "# plot baseline and predictions\n",
    "plt.plot(scaler.inverse_transform(dataset))\n",
    "plt.plot(trainPredictPlot)\n",
    "plt.plot(testPredictPlot)\n",
    "plt.show()"
   ]
  },
  {
   "cell_type": "markdown",
   "metadata": {},
   "source": [
    "## Predicting the future 30 days and Plotting output"
   ]
  },
  {
   "cell_type": "code",
   "execution_count": 71,
   "metadata": {},
   "outputs": [
    {
     "data": {
      "text/plain": [
       "440"
      ]
     },
     "execution_count": 71,
     "metadata": {},
     "output_type": "execute_result"
    }
   ],
   "source": [
    "len(test_data)"
   ]
  },
  {
   "cell_type": "code",
   "execution_count": 72,
   "metadata": {},
   "outputs": [
    {
     "data": {
      "text/plain": [
       "(1, 100)"
      ]
     },
     "execution_count": 72,
     "metadata": {},
     "output_type": "execute_result"
    }
   ],
   "source": [
    "x_input=test_data[340:].reshape(1,-1)\n",
    "x_input.shape"
   ]
  },
  {
   "cell_type": "code",
   "execution_count": 73,
   "metadata": {},
   "outputs": [],
   "source": [
    "temp_input=list(x_input)\n",
    "temp_input=temp_input[0].tolist()"
   ]
  },
  {
   "cell_type": "code",
   "execution_count": 74,
   "metadata": {},
   "outputs": [],
   "source": [
    "from numpy import array"
   ]
  },
  {
   "cell_type": "code",
   "execution_count": 76,
   "metadata": {},
   "outputs": [],
   "source": [
    "lst_output=[]\n",
    "n_steps=100\n",
    "i=0\n",
    "while(i<30):\n",
    "    \n",
    "    if(len(temp_input)>100):\n",
    "        x_input=np.array(temp_input[1:])\n",
    "        # print(\"{} day input {}\".format(i,x_input))\n",
    "        x_input=x_input.reshape(1,-1)\n",
    "        x_input = x_input.reshape((1, n_steps, 1))\n",
    "        yhat = model.predict(x_input, verbose=0)\n",
    "        # print(\"{} day output {}\".format(i,yhat))\n",
    "        temp_input.extend(yhat[0].tolist())\n",
    "        temp_input=temp_input[1:]\n",
    "        lst_output.extend(yhat.tolist())\n",
    "        i=i+1\n",
    "    else:\n",
    "        x_input = x_input.reshape((1, n_steps,1))\n",
    "        yhat = model.predict(x_input, verbose=0)\n",
    "        # print(yhat[0])\n",
    "        temp_input.extend(yhat[0].tolist())\n",
    "        # print(len(temp_input))\n",
    "        lst_output.extend(yhat.tolist())\n",
    "        i=i+1"
   ]
  },
  {
   "cell_type": "code",
   "execution_count": 77,
   "metadata": {},
   "outputs": [],
   "source": [
    "day_new=np.arange(1,101)\n",
    "day_pred=np.arange(101,131)"
   ]
  },
  {
   "cell_type": "code",
   "execution_count": 78,
   "metadata": {},
   "outputs": [
    {
     "data": {
      "text/plain": [
       "[<matplotlib.lines.Line2D at 0x27a5897e3d0>]"
      ]
     },
     "execution_count": 78,
     "metadata": {},
     "output_type": "execute_result"
    },
    {
     "data": {
      "image/png": "[encoded data removed]",
      "text/plain": [
       "<Figure size 640x480 with 1 Axes>"
      ]
     },
     "metadata": {},
     "output_type": "display_data"
    }
   ],
   "source": [
    "plt.plot(day_new,scaler.inverse_transform(dataset[len(dataset)-100:]))\n",
    "plt.plot(day_pred,scaler.inverse_transform(lst_output))"
   ]
  },
  {
   "cell_type": "code",
   "execution_count": 79,
   "metadata": {},
   "outputs": [
    {
     "data": {
      "text/plain": [
       "[<matplotlib.lines.Line2D at 0x27a58912400>]"
      ]
     },
     "execution_count": 79,
     "metadata": {},
     "output_type": "execute_result"
    },
    {
     "data": {
      "image/png": "[encoded data removed]",
      "text/plain": [
       "<Figure size 640x480 with 1 Axes>"
      ]
     },
     "metadata": {},
     "output_type": "display_data"
    }
   ],
   "source": [
    "dataset=dataset.tolist()\n",
    "dataset.extend(lst_output)\n",
    "plt.plot(dataset[1200:])"
   ]
  },
  {
   "cell_type": "code",
   "execution_count": 80,
   "metadata": {},
   "outputs": [
    {
     "data": {
      "text/plain": [
       "[<matplotlib.lines.Line2D at 0x27a6e22ad90>]"
      ]
     },
     "execution_count": 80,
     "metadata": {},
     "output_type": "execute_result"
    },
    {
     "data": {
      "image/png": "[encoded data removed]",
      "text/plain": [
       "<Figure size 640x480 with 1 Axes>"
      ]
     },
     "metadata": {},
     "output_type": "display_data"
    }
   ],
   "source": [
    "dataset=scaler.inverse_transform(dataset).tolist()\n",
    "plt.plot(dataset)"
   ]
  },
  {
   "cell_type": "code",
   "execution_count": null,
   "metadata": {},
   "outputs": [],
   "source": []
  }
 ],
 "metadata": {
  "kernelspec": {
   "display_name": "Python 3.11 (tensorflow)",
   "language": "python",
   "name": "tensorflow"
  },
  "language_info": {
   "codemirror_mode": {
    "name": "ipython",
    "version": 3
   },
   "file_extension": ".py",
   "mimetype": "text/x-python",
   "name": "python",
   "nbconvert_exporter": "python",
   "pygments_lexer": "ipython3",
   "version": "3.9.18"
  }
 },
 "nbformat": 4,
 "nbformat_minor": 4
}
